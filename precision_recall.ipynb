{
 "cells": [
  {
   "cell_type": "code",
   "execution_count": 1,
   "metadata": {
    "collapsed": true
   },
   "outputs": [],
   "source": [
    "import numpy as np\n",
    "import matplotlib.pyplot as plt"
   ]
  },
  {
   "cell_type": "code",
   "execution_count": 2,
   "metadata": {
    "collapsed": true
   },
   "outputs": [],
   "source": [
    "dataGroundTruth = np.loadtxt(\"NewCollegeTextFormat.txt\", delimiter = \",\")"
   ]
  },
  {
   "cell_type": "code",
   "execution_count": 3,
   "metadata": {
    "collapsed": true
   },
   "outputs": [],
   "source": [
    "dataGroundTruth = dataGroundTruth[::2, ::2]"
   ]
  },
  {
   "cell_type": "code",
   "execution_count": 4,
   "metadata": {
    "collapsed": true
   },
   "outputs": [],
   "source": [
    "# only even number of array will be calculated\n",
    "# dataGroundTruth = dataGroundTruth[::2, ::2]"
   ]
  },
  {
   "cell_type": "code",
   "execution_count": 5,
   "metadata": {
    "collapsed": true
   },
   "outputs": [],
   "source": [
    "dataBow = np.loadtxt(\"surfDloop_college.txt\")"
   ]
  },
  {
   "cell_type": "code",
   "execution_count": 6,
   "metadata": {
    "collapsed": true
   },
   "outputs": [],
   "source": [
    "dataBow = dataBow[::2, ::2]"
   ]
  },
  {
   "cell_type": "code",
   "execution_count": 7,
   "metadata": {
    "collapsed": true
   },
   "outputs": [],
   "source": [
    "# get lower triangle and -1 means below Diagonal 1\n",
    "dataBow = np.tril(dataBow, -1)"
   ]
  },
  {
   "cell_type": "code",
   "execution_count": 86,
   "metadata": {
    "collapsed": true
   },
   "outputs": [],
   "source": [
    "prec_recall_curve = []"
   ]
  },
  {
   "cell_type": "code",
   "execution_count": 87,
   "metadata": {
    "collapsed": false
   },
   "outputs": [],
   "source": [
    "for threshold in np.arange(0, 0.1, 0.002):\n",
    "    # precision: fraction of retrieved instances that are relevant\n",
    "    # recall: fraction of relevant instances that are retrieved\n",
    "    true_positives = (dataBow > threshold) & (dataGroundTruth == 1)\n",
    "    all_positives = (dataBow > threshold)\n",
    "\n",
    "    try:\n",
    "        precision = float(np.sum(true_positives)) / np.sum(all_positives)\n",
    "        recall = float(np.sum(true_positives)) / np.sum(dataGroundTruth == 1)\n",
    "\n",
    "        prec_recall_curve.append([threshold, precision, recall])\n",
    "    except:\n",
    "        break"
   ]
  },
  {
   "cell_type": "code",
   "execution_count": 88,
   "metadata": {
    "collapsed": true
   },
   "outputs": [],
   "source": [
    "prec_recall_curve = np.array(prec_recall_curve)"
   ]
  },
  {
   "cell_type": "code",
   "execution_count": 89,
   "metadata": {
    "collapsed": false
   },
   "outputs": [
    {
     "data": {
      "text/plain": [
       "[<matplotlib.lines.Line2D at 0x7f75ec89d2b0>]"
      ]
     },
     "execution_count": 89,
     "metadata": {},
     "output_type": "execute_result"
    }
   ],
   "source": [
    "plt.plot(prec_recall_curve[:, 1], prec_recall_curve[:, 2])"
   ]
  },
  {
   "cell_type": "code",
   "execution_count": 90,
   "metadata": {
    "collapsed": false
   },
   "outputs": [],
   "source": [
    "for thresh, prec, rec in prec_recall_curve[5::5]:\n",
    "    plt.annotate( \n",
    "        str(thresh),\n",
    "        xy=(prec, rec),\n",
    "        xytext=(8, 8),\n",
    "        textcoords='offset points')"
   ]
  },
  {
   "cell_type": "code",
   "execution_count": 91,
   "metadata": {
    "collapsed": false
   },
   "outputs": [
    {
     "data": {
      "text/plain": [
       "<matplotlib.text.Annotation at 0x7f75ecc1db38>"
      ]
     },
     "execution_count": 91,
     "metadata": {},
     "output_type": "execute_result"
    }
   ],
   "source": [
    "plt.annotate('surf', xy=prec_recall_curve[10][1:3], xytext=prec_recall_curve[10][1:3] + 0.1,\n",
    "            arrowprops=dict(facecolor='blue', shrink=0.05),\n",
    "            )"
   ]
  },
  {
   "cell_type": "markdown",
   "metadata": {},
   "source": [
    "## comapre"
   ]
  },
  {
   "cell_type": "code",
   "execution_count": 92,
   "metadata": {
    "collapsed": true
   },
   "outputs": [],
   "source": [
    "dataOrbDbow3 = np.loadtxt(\"orbDbow3_college.txt\")"
   ]
  },
  {
   "cell_type": "code",
   "execution_count": 93,
   "metadata": {
    "collapsed": true
   },
   "outputs": [],
   "source": [
    "dataOrbDbow3 = dataOrbDbow3[::2, ::2]"
   ]
  },
  {
   "cell_type": "code",
   "execution_count": 94,
   "metadata": {
    "collapsed": true
   },
   "outputs": [],
   "source": [
    "# get lower triangle and -1 means below Diagonal 1\n",
    "dataOrbDbow3 = np.tril(dataOrbDbow3, -1)"
   ]
  },
  {
   "cell_type": "code",
   "execution_count": 95,
   "metadata": {
    "collapsed": true
   },
   "outputs": [],
   "source": [
    "prec_recall_orbDbow3 = []"
   ]
  },
  {
   "cell_type": "code",
   "execution_count": 96,
   "metadata": {
    "collapsed": false
   },
   "outputs": [],
   "source": [
    "for threshold in np.arange(0, 0.1, 0.002):\n",
    "    # precision: fraction of retrieved instances that are relevant\n",
    "    # recall: fraction of relevant instances that are retrieved\n",
    "    true_positives = (dataOrbDbow3 > threshold) & (dataGroundTruth == 1)\n",
    "    all_positives = (dataOrbDbow3 > threshold)\n",
    "\n",
    "    try:\n",
    "        precision = float(np.sum(true_positives)) / np.sum(all_positives)\n",
    "        recall = float(np.sum(true_positives)) / np.sum(dataGroundTruth == 1)\n",
    "\n",
    "        prec_recall_orbDbow3.append([threshold, precision, recall])\n",
    "    except:\n",
    "        break"
   ]
  },
  {
   "cell_type": "code",
   "execution_count": 97,
   "metadata": {
    "collapsed": true
   },
   "outputs": [],
   "source": [
    "prec_recall_orbDbow3 = np.array(prec_recall_orbDbow3)"
   ]
  },
  {
   "cell_type": "code",
   "execution_count": 98,
   "metadata": {
    "collapsed": false
   },
   "outputs": [
    {
     "data": {
      "text/plain": [
       "[<matplotlib.lines.Line2D at 0x7f75e388c5c0>]"
      ]
     },
     "execution_count": 98,
     "metadata": {},
     "output_type": "execute_result"
    }
   ],
   "source": [
    "plt.plot(prec_recall_orbDbow3[:, 1], prec_recall_orbDbow3[:, 2])"
   ]
  },
  {
   "cell_type": "code",
   "execution_count": 99,
   "metadata": {
    "collapsed": false
   },
   "outputs": [],
   "source": [
    "for thresh, prec, rec in prec_recall_orbDbow3[5::5]:\n",
    "    plt.annotate( \n",
    "        str(thresh),\n",
    "        xy=(prec, rec),\n",
    "        xytext=(8, 8),\n",
    "        textcoords='offset points')"
   ]
  },
  {
   "cell_type": "code",
   "execution_count": 100,
   "metadata": {
    "collapsed": false
   },
   "outputs": [
    {
     "data": {
      "text/plain": [
       "<matplotlib.text.Annotation at 0x7f75e388cbe0>"
      ]
     },
     "execution_count": 100,
     "metadata": {},
     "output_type": "execute_result"
    }
   ],
   "source": [
    "plt.annotate('orb', xy=prec_recall_orbDbow3[10][1:3], xytext=prec_recall_orbDbow3[10][1:3] - 0.1,\n",
    "            arrowprops=dict(facecolor='orange', shrink=0.05),\n",
    "            )"
   ]
  },
  {
   "cell_type": "markdown",
   "metadata": {},
   "source": [
    "## Result"
   ]
  },
  {
   "cell_type": "code",
   "execution_count": 101,
   "metadata": {
    "collapsed": false
   },
   "outputs": [
    {
     "data": {
      "text/plain": [
       "<matplotlib.text.Text at 0x7f75ecfef9e8>"
      ]
     },
     "execution_count": 101,
     "metadata": {},
     "output_type": "execute_result"
    }
   ],
   "source": [
    "plt.xlabel('Precision', fontsize=14)\n",
    "plt.ylabel('Recall', fontsize=14)"
   ]
  },
  {
   "cell_type": "code",
   "execution_count": 102,
   "metadata": {
    "collapsed": false
   },
   "outputs": [],
   "source": [
    "plt.savefig('prec_recall_curve.png')"
   ]
  },
  {
   "cell_type": "code",
   "execution_count": 103,
   "metadata": {
    "collapsed": false
   },
   "outputs": [
    {
     "data": {
      "image/png": "[encoded data removed]",
      "text/plain": [
       "<matplotlib.figure.Figure at 0x7f75edf494a8>"
      ]
     },
     "metadata": {},
     "output_type": "display_data"
    }
   ],
   "source": [
    "plt.show()"
   ]
  },
  {
   "cell_type": "markdown",
   "metadata": {},
   "source": [
    "## test program"
   ]
  },
  {
   "cell_type": "code",
   "execution_count": 71,
   "metadata": {
    "collapsed": false
   },
   "outputs": [
    {
     "data": {
      "text/plain": [
       "array([[ 0.        ,  0.00623874,  0.99858797],\n",
       "       [ 0.002     ,  0.00673319,  0.9906806 ],\n",
       "       [ 0.004     ,  0.00794003,  0.96441683],\n",
       "       [ 0.006     ,  0.01005799,  0.92092629],\n",
       "       [ 0.008     ,  0.01369431,  0.87009319],\n",
       "       [ 0.01      ,  0.01967489,  0.81078791],\n",
       "       [ 0.012     ,  0.02937626,  0.75600113],\n",
       "       [ 0.014     ,  0.04382109,  0.70940412],\n",
       "       [ 0.016     ,  0.06286569,  0.66450155],\n",
       "       [ 0.018     ,  0.08567656,  0.62298786],\n",
       "       [ 0.02      ,  0.11258242,  0.58825191],\n",
       "       [ 0.022     ,  0.14250525,  0.5554928 ],\n",
       "       [ 0.024     ,  0.17359482,  0.52245128],\n",
       "       [ 0.026     ,  0.20746692,  0.49590511],\n",
       "       [ 0.028     ,  0.2398556 ,  0.46907653],\n",
       "       [ 0.03      ,  0.27424347,  0.45043773],\n",
       "       [ 0.032     ,  0.30844754,  0.4258684 ],\n",
       "       [ 0.034     ,  0.33851224,  0.40609997],\n",
       "       [ 0.036     ,  0.36792197,  0.38350748],\n",
       "       [ 0.038     ,  0.39294479,  0.36176221],\n",
       "       [ 0.04      ,  0.41533657,  0.3380401 ],\n",
       "       [ 0.042     ,  0.43181818,  0.31657724],\n",
       "       [ 0.044     ,  0.45029991,  0.29680881],\n",
       "       [ 0.046     ,  0.47325692,  0.27986445],\n",
       "       [ 0.048     ,  0.49261603,  0.2637673 ],\n",
       "       [ 0.05      ,  0.50986079,  0.24823496],\n",
       "       [ 0.052     ,  0.52184769,  0.2360915 ],\n",
       "       [ 0.054     ,  0.53315106,  0.22027676],\n",
       "       [ 0.056     ,  0.54334828,  0.20530923],\n",
       "       [ 0.058     ,  0.5536    ,  0.19542502],\n",
       "       [ 0.06      ,  0.55839727,  0.184976  ],\n",
       "       [ 0.062     ,  0.56600362,  0.17678622],\n",
       "       [ 0.064     ,  0.5699334 ,  0.16916125],\n",
       "       [ 0.066     ,  0.57621951,  0.16012426],\n",
       "       [ 0.068     ,  0.5813449 ,  0.15136967],\n",
       "       [ 0.07      ,  0.59044369,  0.14656877],\n",
       "       [ 0.072     ,  0.59757576,  0.13922621],\n",
       "       [ 0.074     ,  0.60333761,  0.13273087],\n",
       "       [ 0.076     ,  0.60188934,  0.12595312],\n",
       "       [ 0.078     ,  0.60114778,  0.11832816],\n",
       "       [ 0.08      ,  0.60030166,  0.11239763],\n",
       "       [ 0.082     ,  0.59968354,  0.10703191],\n",
       "       [ 0.084     ,  0.59234609,  0.10053657],\n",
       "       [ 0.086     ,  0.58854167,  0.09573567],\n",
       "       [ 0.088     ,  0.58856089,  0.09008755]])"
      ]
     },
     "execution_count": 71,
     "metadata": {},
     "output_type": "execute_result"
    }
   ],
   "source": [
    "prec_recall_curve"
   ]
  },
  {
   "cell_type": "code",
   "execution_count": 27,
   "metadata": {
    "collapsed": false
   },
   "outputs": [
    {
     "data": {
      "text/plain": [
       "array([ 0.00132196, -0.        ,  0.00124658,  0.00070851,  0.00051348,\n",
       "        0.00092297, -0.        , -0.        , -0.        , -0.        ,\n",
       "       -0.        ,  0.0005272 ,  0.0005292 ,  0.00073762,  0.00167574,\n",
       "        0.00092254,  0.00066465,  0.00239092,  0.00031968,  0.00052381,\n",
       "        0.0007714 , -0.        ,  0.00145071,  0.00086439,  0.00249986,\n",
       "        0.0006523 ,  0.00069823,  0.00275531,  0.00064273, -0.        ,\n",
       "        0.00447068, -0.        ,  0.00099363,  0.00073377,  0.00188306,\n",
       "        0.00192453, -0.        ,  0.00087209, -0.        ,  0.00165223])"
      ]
     },
     "execution_count": 27,
     "metadata": {},
     "output_type": "execute_result"
    }
   ],
   "source": [
    "dataBow[959][545:585]"
   ]
  },
  {
   "cell_type": "code",
   "execution_count": 15,
   "metadata": {
    "collapsed": false
   },
   "outputs": [],
   "source": [
    "true_positives = (dataBow > 0.02) & (dataGroundTruth == 1)"
   ]
  },
  {
   "cell_type": "code",
   "execution_count": 24,
   "metadata": {
    "collapsed": false
   },
   "outputs": [],
   "source": [
    "dataGroundTruth[::50, ::50]"
   ]
  },
  {
   "cell_type": "code",
   "execution_count": 37,
   "metadata": {
    "collapsed": false
   },
   "outputs": [
    {
     "data": {
      "text/plain": [
       "(1237, 1237)"
      ]
     },
     "execution_count": 37,
     "metadata": {},
     "output_type": "execute_result"
    }
   ],
   "source": [
    "dataGroundTruth.shape"
   ]
  },
  {
   "cell_type": "code",
   "execution_count": 38,
   "metadata": {
    "collapsed": false
   },
   "outputs": [
    {
     "data": {
      "text/plain": [
       "(1237, 1237)"
      ]
     },
     "execution_count": 38,
     "metadata": {},
     "output_type": "execute_result"
    }
   ],
   "source": [
    "dataBow.shape"
   ]
  },
  {
   "cell_type": "code",
   "execution_count": 24,
   "metadata": {
    "collapsed": false
   },
   "outputs": [
    {
     "data": {
      "text/plain": [
       "[[0.0, 0.0080008427348802307, 0.87941259531205873],\n",
       " [0.002, 0.011768657217706724, 0.74216323072578372],\n",
       " [0.0040000000000000001, 0.023695752539242845, 0.57977972324202198],\n",
       " [0.0060000000000000001, 0.053686562400255343, 0.47500706015249927],\n",
       " [0.0080000000000000002, 0.11213603914333842, 0.39480372776051964],\n",
       " [0.01, 0.18667082878102076, 0.3377576955662242],\n",
       " [0.012, 0.24415832141154029, 0.28918384637108163],\n",
       " [0.014, 0.28806983511154222, 0.2516238350748376],\n",
       " [0.016, 0.3316831683168317, 0.22705450437729455],\n",
       " [0.018000000000000002, 0.35519677093844604, 0.19881389438011862],\n",
       " [0.02, 0.36973293768545995, 0.17593900028240611],\n",
       " [0.021999999999999999, 0.39031141868512109, 0.15927704038407228],\n",
       " [0.024, 0.41039999999999999, 0.14487432928551255],\n",
       " [0.026000000000000002, 0.42645698427382056, 0.13018921208698109],\n",
       " [0.028000000000000001, 0.43302180685358255, 0.11776334368822367],\n",
       " [0.029999999999999999, 0.43985849056603776, 0.10533747528946626],\n",
       " [0.032000000000000001, 0.45118733509234826, 0.096582886190341707],\n",
       " [0.034000000000000002, 0.45400593471810091, 0.086416266591358371],\n",
       " [0.036000000000000004, 0.44425675675675674, 0.074272804292572714],\n",
       " [0.037999999999999999, 0.44090056285178236, 0.066365433493363463],\n",
       " [0.040000000000000001, 0.45000000000000001, 0.060999717593900028],\n",
       " [0.042000000000000003, 0.44730679156908665, 0.05393956509460604],\n",
       " [0.043999999999999997, 0.46055979643765904, 0.05111550409488845],\n",
       " [0.045999999999999999, 0.47075208913649025, 0.047726630895227336],\n",
       " [0.048000000000000001, 0.46984126984126984, 0.04179610279582039],\n",
       " [0.050000000000000003, 0.46853146853146854, 0.037842417396215758],\n",
       " [0.052000000000000005, 0.45348837209302323, 0.033041513696695848],\n",
       " [0.053999999999999999, 0.46058091286307051, 0.031347077096865295],\n",
       " [0.056000000000000001, 0.4681818181818182, 0.029087828297091216],\n",
       " [0.058000000000000003, 0.47668393782383417, 0.025981361197401864],\n",
       " [0.059999999999999998, 0.47701149425287354, 0.023439706297656029],\n",
       " [0.062, 0.49068322981366458, 0.022310081897768994],\n",
       " [0.064000000000000001, 0.5, 0.021180457497881954],\n",
       " [0.066000000000000003, 0.49264705882352944, 0.018921208698107879],\n",
       " [0.068000000000000005, 0.47999999999999998, 0.016944365998305563],\n",
       " [0.070000000000000007, 0.48305084745762711, 0.016097147698390286],\n",
       " [0.072000000000000008, 0.5, 0.014685117198531489],\n",
       " [0.073999999999999996, 0.51063829787234039, 0.013555492798644452],\n",
       " [0.075999999999999998, 0.51807228915662651, 0.012143462298785653],\n",
       " [0.078, 0.52777777777777779, 0.010731431798926857],\n",
       " [0.080000000000000002, 0.55000000000000004, 0.00931940129906806],\n",
       " [0.082000000000000003, 0.52631578947368418, 0.0084721829991527813],\n",
       " [0.084000000000000005, 0.56862745098039214, 0.0081897768991810223],\n",
       " [0.086000000000000007, 0.55555555555555558, 0.0070601524992939847],\n",
       " [0.087999999999999995, 0.58139534883720934, 0.0070601524992939847],\n",
       " [0.089999999999999997, 0.59999999999999998, 0.0059305280994069471],\n",
       " [0.091999999999999998, 0.59999999999999998, 0.0050833097994916693],\n",
       " [0.094, 0.61538461538461542, 0.0045184975995481505],\n",
       " [0.096000000000000002, 0.52631578947368418, 0.0028240609997175941],\n",
       " [0.098000000000000004, 0.5, 0.0025416548997458347]]"
      ]
     },
     "execution_count": 24,
     "metadata": {},
     "output_type": "execute_result"
    }
   ],
   "source": [
    "prec_recall_orbDbow3"
   ]
  },
  {
   "cell_type": "code",
   "execution_count": 68,
   "metadata": {
    "collapsed": false
   },
   "outputs": [
    {
     "data": {
      "text/plain": [
       "array([ 0.26973294,  0.075939  ])"
      ]
     },
     "execution_count": 68,
     "metadata": {},
     "output_type": "execute_result"
    }
   ],
   "source": [
    "prec_recall_orbDbow3[10][1:3] -0.1"
   ]
  },
  {
   "cell_type": "code",
   "execution_count": null,
   "metadata": {
    "collapsed": true
   },
   "outputs": [],
   "source": []
  }
 ],
 "metadata": {
  "kernelspec": {
   "display_name": "Python 3",
   "language": "python",
   "name": "python3"
  },
  "language_info": {
   "codemirror_mode": {
    "name": "ipython",
    "version": 3
   },
   "file_extension": ".py",
   "mimetype": "text/x-python",
   "name": "python",
   "nbconvert_exporter": "python",
   "pygments_lexer": "ipython3",
   "version": "3.6.0"
  }
 },
 "nbformat": 4,
 "nbformat_minor": 2
}
