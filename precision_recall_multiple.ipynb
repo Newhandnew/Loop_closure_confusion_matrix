{
 "cells": [
  {
   "cell_type": "code",
   "execution_count": 1,
   "metadata": {
    "collapsed": true
   },
   "outputs": [],
   "source": [
    "import numpy as np\n",
    "import matplotlib.pyplot as plt"
   ]
  },
  {
   "cell_type": "code",
   "execution_count": 2,
   "metadata": {
    "collapsed": true
   },
   "outputs": [],
   "source": [
    "dataGroundTruth = np.loadtxt(\"NewCollegeTextFormat.txt\", delimiter = \",\")"
   ]
  },
  {
   "cell_type": "code",
   "execution_count": 3,
   "metadata": {
    "collapsed": true
   },
   "outputs": [],
   "source": [
    "dataGroundTruth = dataGroundTruth[::2, ::2]"
   ]
  },
  {
   "cell_type": "code",
   "execution_count": 4,
   "metadata": {
    "collapsed": true
   },
   "outputs": [],
   "source": [
    "# only even number of array will be calculated\n",
    "# dataGroundTruth = dataGroundTruth[::2, ::2]"
   ]
  },
  {
   "cell_type": "code",
   "execution_count": 5,
   "metadata": {
    "collapsed": true
   },
   "outputs": [],
   "source": [
    "dataBow = np.loadtxt(\"surf1000_college.txt\")"
   ]
  },
  {
   "cell_type": "code",
   "execution_count": 6,
   "metadata": {
    "collapsed": true
   },
   "outputs": [],
   "source": [
    "dataBow = dataBow[::2, ::2]"
   ]
  },
  {
   "cell_type": "code",
   "execution_count": 7,
   "metadata": {
    "collapsed": true
   },
   "outputs": [],
   "source": [
    "# get lower triangle and -1 means below Diagonal 1\n",
    "dataBow = np.tril(dataBow, -1)"
   ]
  },
  {
   "cell_type": "code",
   "execution_count": 136,
   "metadata": {
    "collapsed": true
   },
   "outputs": [],
   "source": [
    "prec_recall_curve = []"
   ]
  },
  {
   "cell_type": "code",
   "execution_count": 137,
   "metadata": {
    "collapsed": false
   },
   "outputs": [],
   "source": [
    "for threshold in np.arange(0.1, 0.62, 0.01):\n",
    "    # precision: fraction of retrieved instances that are relevant\n",
    "    # recall: fraction of relevant instances that are retrieved\n",
    "    true_positives = (dataBow > threshold) & (dataGroundTruth == 1)\n",
    "    all_positives = (dataBow > threshold)\n",
    "\n",
    "    try:\n",
    "        precision = float(np.sum(true_positives)) / np.sum(all_positives)\n",
    "        recall = float(np.sum(true_positives)) / np.sum(dataGroundTruth == 1)\n",
    "\n",
    "        prec_recall_curve.append([threshold, precision, recall])\n",
    "    except:\n",
    "        break"
   ]
  },
  {
   "cell_type": "code",
   "execution_count": 138,
   "metadata": {
    "collapsed": true
   },
   "outputs": [],
   "source": [
    "prec_recall_curve = np.array(prec_recall_curve)"
   ]
  },
  {
   "cell_type": "code",
   "execution_count": 139,
   "metadata": {
    "collapsed": false
   },
   "outputs": [
    {
     "data": {
      "text/plain": [
       "[<matplotlib.lines.Line2D at 0x7f35767c7c88>]"
      ]
     },
     "execution_count": 139,
     "metadata": {},
     "output_type": "execute_result"
    }
   ],
   "source": [
    "plt.plot(prec_recall_curve[:, 1], prec_recall_curve[:, 2])"
   ]
  },
  {
   "cell_type": "code",
   "execution_count": 140,
   "metadata": {
    "collapsed": false
   },
   "outputs": [
    {
     "data": {
      "text/plain": [
       "<matplotlib.text.Annotation at 0x7f35767b9780>"
      ]
     },
     "execution_count": 140,
     "metadata": {},
     "output_type": "execute_result"
    }
   ],
   "source": [
    "plt.annotate('1000', xy=prec_recall_curve[15][1:3], xytext=prec_recall_curve[15][1:3] + 0.1,\n",
    "            arrowprops=dict(facecolor='blue', shrink=0.05),\n",
    "            )"
   ]
  },
  {
   "cell_type": "markdown",
   "metadata": {},
   "source": [
    "## compare1"
   ]
  },
  {
   "cell_type": "code",
   "execution_count": 141,
   "metadata": {
    "collapsed": true
   },
   "outputs": [],
   "source": [
    "dataSurf10000 = np.loadtxt(\"surf10000_college.txt\")"
   ]
  },
  {
   "cell_type": "code",
   "execution_count": 142,
   "metadata": {
    "collapsed": true
   },
   "outputs": [],
   "source": [
    "dataSurf10000 = dataSurf10000[::2, ::2]"
   ]
  },
  {
   "cell_type": "code",
   "execution_count": 143,
   "metadata": {
    "collapsed": true
   },
   "outputs": [],
   "source": [
    "# get lower triangle and -1 means below Diagonal 1\n",
    "dataSurf10000 = np.tril(dataSurf10000, -1)"
   ]
  },
  {
   "cell_type": "code",
   "execution_count": 144,
   "metadata": {
    "collapsed": true
   },
   "outputs": [],
   "source": [
    "prec_recall_surf10000 = []"
   ]
  },
  {
   "cell_type": "code",
   "execution_count": 145,
   "metadata": {
    "collapsed": false
   },
   "outputs": [],
   "source": [
    "for threshold in np.arange(0, 0.3, 0.008):\n",
    "    # precision: fraction of retrieved instances that are relevant\n",
    "    # recall: fraction of relevant instances that are retrieved\n",
    "    true_positives = (dataSurf10000 > threshold) & (dataGroundTruth == 1)\n",
    "    all_positives = (dataSurf10000 > threshold)\n",
    "\n",
    "    try:\n",
    "        precision = float(np.sum(true_positives)) / np.sum(all_positives)\n",
    "        recall = float(np.sum(true_positives)) / np.sum(dataGroundTruth == 1)\n",
    "\n",
    "        prec_recall_surf10000.append([threshold, precision, recall])\n",
    "    except:\n",
    "        break"
   ]
  },
  {
   "cell_type": "code",
   "execution_count": 146,
   "metadata": {
    "collapsed": true
   },
   "outputs": [],
   "source": [
    "prec_recall_surf10000 = np.array(prec_recall_surf10000)"
   ]
  },
  {
   "cell_type": "code",
   "execution_count": 147,
   "metadata": {
    "collapsed": false
   },
   "outputs": [
    {
     "data": {
      "text/plain": [
       "[<matplotlib.lines.Line2D at 0x7f357706af28>]"
      ]
     },
     "execution_count": 147,
     "metadata": {},
     "output_type": "execute_result"
    }
   ],
   "source": [
    "plt.plot(prec_recall_surf10000[:, 1], prec_recall_surf10000[:, 2])"
   ]
  },
  {
   "cell_type": "code",
   "execution_count": 148,
   "metadata": {
    "collapsed": false
   },
   "outputs": [
    {
     "data": {
      "text/plain": [
       "<matplotlib.text.Annotation at 0x7f35767d49b0>"
      ]
     },
     "execution_count": 148,
     "metadata": {},
     "output_type": "execute_result"
    }
   ],
   "source": [
    "plt.annotate('10000', xy=prec_recall_surf10000[20][1:3], xytext=prec_recall_surf10000[20][1:3] - 0.1,\n",
    "            arrowprops=dict(facecolor='orange', shrink=0.05),\n",
    "            )"
   ]
  },
  {
   "cell_type": "markdown",
   "metadata": {},
   "source": [
    "## comapre2"
   ]
  },
  {
   "cell_type": "code",
   "execution_count": 149,
   "metadata": {
    "collapsed": true
   },
   "outputs": [],
   "source": [
    "dataOrbDbow3 = np.loadtxt(\"surf100000_college.txt\")"
   ]
  },
  {
   "cell_type": "code",
   "execution_count": 150,
   "metadata": {
    "collapsed": true
   },
   "outputs": [],
   "source": [
    "dataOrbDbow3 = dataOrbDbow3[::2, ::2]"
   ]
  },
  {
   "cell_type": "code",
   "execution_count": 151,
   "metadata": {
    "collapsed": true
   },
   "outputs": [],
   "source": [
    "# get lower triangle and -1 means below Diagonal 1\n",
    "dataOrbDbow3 = np.tril(dataOrbDbow3, -1)"
   ]
  },
  {
   "cell_type": "code",
   "execution_count": 152,
   "metadata": {
    "collapsed": true
   },
   "outputs": [],
   "source": [
    "prec_recall_orbDbow3 = []"
   ]
  },
  {
   "cell_type": "code",
   "execution_count": 153,
   "metadata": {
    "collapsed": false
   },
   "outputs": [],
   "source": [
    "for threshold in np.arange(0, 0.2, 0.004):\n",
    "    # precision: fraction of retrieved instances that are relevant\n",
    "    # recall: fraction of relevant instances that are retrieved\n",
    "    true_positives = (dataOrbDbow3 > threshold) & (dataGroundTruth == 1)\n",
    "    all_positives = (dataOrbDbow3 > threshold)\n",
    "\n",
    "    try:\n",
    "        precision = float(np.sum(true_positives)) / np.sum(all_positives)\n",
    "        recall = float(np.sum(true_positives)) / np.sum(dataGroundTruth == 1)\n",
    "\n",
    "        prec_recall_orbDbow3.append([threshold, precision, recall])\n",
    "    except:\n",
    "        break"
   ]
  },
  {
   "cell_type": "code",
   "execution_count": 154,
   "metadata": {
    "collapsed": true
   },
   "outputs": [],
   "source": [
    "prec_recall_orbDbow3 = np.array(prec_recall_orbDbow3)"
   ]
  },
  {
   "cell_type": "code",
   "execution_count": 155,
   "metadata": {
    "collapsed": false
   },
   "outputs": [
    {
     "data": {
      "text/plain": [
       "[<matplotlib.lines.Line2D at 0x7f3577ed5630>]"
      ]
     },
     "execution_count": 155,
     "metadata": {},
     "output_type": "execute_result"
    }
   ],
   "source": [
    "plt.plot(prec_recall_orbDbow3[:, 1], prec_recall_orbDbow3[:, 2])"
   ]
  },
  {
   "cell_type": "code",
   "execution_count": 156,
   "metadata": {
    "collapsed": false
   },
   "outputs": [
    {
     "data": {
      "text/plain": [
       "<matplotlib.text.Annotation at 0x7f35767d45f8>"
      ]
     },
     "execution_count": 156,
     "metadata": {},
     "output_type": "execute_result"
    }
   ],
   "source": [
    "plt.annotate('100000', xy=prec_recall_orbDbow3[10][1:3], xytext=prec_recall_orbDbow3[10][1:3] - 0.1,\n",
    "            arrowprops=dict(facecolor='green', shrink=0.05),\n",
    "            )"
   ]
  },
  {
   "cell_type": "markdown",
   "metadata": {},
   "source": [
    "## comapre3"
   ]
  },
  {
   "cell_type": "code",
   "execution_count": 157,
   "metadata": {
    "collapsed": true
   },
   "outputs": [],
   "source": [
    "dataSurf1000000 = np.loadtxt(\"surf1000000_college.txt\")"
   ]
  },
  {
   "cell_type": "code",
   "execution_count": 158,
   "metadata": {
    "collapsed": true
   },
   "outputs": [],
   "source": [
    "dataSurf1000000 = dataSurf1000000[::2, ::2]"
   ]
  },
  {
   "cell_type": "code",
   "execution_count": 159,
   "metadata": {
    "collapsed": true
   },
   "outputs": [],
   "source": [
    "# get lower triangle and -1 means below Diagonal 1\n",
    "dataSurf1000000 = np.tril(dataSurf1000000, -1)"
   ]
  },
  {
   "cell_type": "code",
   "execution_count": 160,
   "metadata": {
    "collapsed": true
   },
   "outputs": [],
   "source": [
    "prec_recall_surf1000000 = []"
   ]
  },
  {
   "cell_type": "code",
   "execution_count": 161,
   "metadata": {
    "collapsed": false
   },
   "outputs": [],
   "source": [
    "for threshold in np.arange(0, 0.1, 0.002):\n",
    "    # precision: fraction of retrieved instances that are relevant\n",
    "    # recall: fraction of relevant instances that are retrieved\n",
    "    true_positives = (dataSurf1000000 > threshold) & (dataGroundTruth == 1)\n",
    "    all_positives = (dataSurf1000000 > threshold)\n",
    "\n",
    "    try:\n",
    "        precision = float(np.sum(true_positives)) / np.sum(all_positives)\n",
    "        recall = float(np.sum(true_positives)) / np.sum(dataGroundTruth == 1)\n",
    "\n",
    "        prec_recall_surf1000000.append([threshold, precision, recall])\n",
    "    except:\n",
    "        break"
   ]
  },
  {
   "cell_type": "code",
   "execution_count": 162,
   "metadata": {
    "collapsed": true
   },
   "outputs": [],
   "source": [
    "prec_recall_surf1000000 = np.array(prec_recall_surf1000000)"
   ]
  },
  {
   "cell_type": "code",
   "execution_count": 163,
   "metadata": {
    "collapsed": false
   },
   "outputs": [
    {
     "data": {
      "text/plain": [
       "[<matplotlib.lines.Line2D at 0x7f3576b1f518>]"
      ]
     },
     "execution_count": 163,
     "metadata": {},
     "output_type": "execute_result"
    }
   ],
   "source": [
    "plt.plot(prec_recall_surf1000000[:, 1], prec_recall_surf1000000[:, 2])"
   ]
  },
  {
   "cell_type": "code",
   "execution_count": 164,
   "metadata": {
    "collapsed": false
   },
   "outputs": [
    {
     "data": {
      "text/plain": [
       "<matplotlib.text.Annotation at 0x7f35769d6b70>"
      ]
     },
     "execution_count": 164,
     "metadata": {},
     "output_type": "execute_result"
    }
   ],
   "source": [
    "plt.annotate('1000000', xy=prec_recall_surf1000000[10][1:3], xytext=prec_recall_surf1000000[10][1:3] - 0.1,\n",
    "            arrowprops=dict(facecolor='red', shrink=0.05),\n",
    "            )"
   ]
  },
  {
   "cell_type": "markdown",
   "metadata": {},
   "source": [
    "## Result"
   ]
  },
  {
   "cell_type": "code",
   "execution_count": 165,
   "metadata": {
    "collapsed": false
   },
   "outputs": [
    {
     "data": {
      "text/plain": [
       "<matplotlib.text.Text at 0x7f35722099b0>"
      ]
     },
     "execution_count": 165,
     "metadata": {},
     "output_type": "execute_result"
    }
   ],
   "source": [
    "plt.xlabel('Precision', fontsize=14)\n",
    "plt.ylabel('Recall', fontsize=14)"
   ]
  },
  {
   "cell_type": "code",
   "execution_count": 166,
   "metadata": {
    "collapsed": false
   },
   "outputs": [],
   "source": [
    "plt.savefig('prec_recall_curve.png')"
   ]
  },
  {
   "cell_type": "code",
   "execution_count": 167,
   "metadata": {
    "collapsed": false
   },
   "outputs": [
    {
     "data": {
      "image/png": "[encoded data removed]",
      "text/plain": [
       "<matplotlib.figure.Figure at 0x7f357211c710>"
      ]
     },
     "metadata": {},
     "output_type": "display_data"
    }
   ],
   "source": [
    "plt.show()"
   ]
  },
  {
   "cell_type": "markdown",
   "metadata": {},
   "source": [
    "## test program"
   ]
  },
  {
   "cell_type": "code",
   "execution_count": 71,
   "metadata": {
    "collapsed": false
   },
   "outputs": [
    {
     "data": {
      "text/plain": [
       "array([[ 0.        ,  0.00623874,  0.99858797],\n",
       "       [ 0.002     ,  0.00673319,  0.9906806 ],\n",
       "       [ 0.004     ,  0.00794003,  0.96441683],\n",
       "       [ 0.006     ,  0.01005799,  0.92092629],\n",
       "       [ 0.008     ,  0.01369431,  0.87009319],\n",
       "       [ 0.01      ,  0.01967489,  0.81078791],\n",
       "       [ 0.012     ,  0.02937626,  0.75600113],\n",
       "       [ 0.014     ,  0.04382109,  0.70940412],\n",
       "       [ 0.016     ,  0.06286569,  0.66450155],\n",
       "       [ 0.018     ,  0.08567656,  0.62298786],\n",
       "       [ 0.02      ,  0.11258242,  0.58825191],\n",
       "       [ 0.022     ,  0.14250525,  0.5554928 ],\n",
       "       [ 0.024     ,  0.17359482,  0.52245128],\n",
       "       [ 0.026     ,  0.20746692,  0.49590511],\n",
       "       [ 0.028     ,  0.2398556 ,  0.46907653],\n",
       "       [ 0.03      ,  0.27424347,  0.45043773],\n",
       "       [ 0.032     ,  0.30844754,  0.4258684 ],\n",
       "       [ 0.034     ,  0.33851224,  0.40609997],\n",
       "       [ 0.036     ,  0.36792197,  0.38350748],\n",
       "       [ 0.038     ,  0.39294479,  0.36176221],\n",
       "       [ 0.04      ,  0.41533657,  0.3380401 ],\n",
       "       [ 0.042     ,  0.43181818,  0.31657724],\n",
       "       [ 0.044     ,  0.45029991,  0.29680881],\n",
       "       [ 0.046     ,  0.47325692,  0.27986445],\n",
       "       [ 0.048     ,  0.49261603,  0.2637673 ],\n",
       "       [ 0.05      ,  0.50986079,  0.24823496],\n",
       "       [ 0.052     ,  0.52184769,  0.2360915 ],\n",
       "       [ 0.054     ,  0.53315106,  0.22027676],\n",
       "       [ 0.056     ,  0.54334828,  0.20530923],\n",
       "       [ 0.058     ,  0.5536    ,  0.19542502],\n",
       "       [ 0.06      ,  0.55839727,  0.184976  ],\n",
       "       [ 0.062     ,  0.56600362,  0.17678622],\n",
       "       [ 0.064     ,  0.5699334 ,  0.16916125],\n",
       "       [ 0.066     ,  0.57621951,  0.16012426],\n",
       "       [ 0.068     ,  0.5813449 ,  0.15136967],\n",
       "       [ 0.07      ,  0.59044369,  0.14656877],\n",
       "       [ 0.072     ,  0.59757576,  0.13922621],\n",
       "       [ 0.074     ,  0.60333761,  0.13273087],\n",
       "       [ 0.076     ,  0.60188934,  0.12595312],\n",
       "       [ 0.078     ,  0.60114778,  0.11832816],\n",
       "       [ 0.08      ,  0.60030166,  0.11239763],\n",
       "       [ 0.082     ,  0.59968354,  0.10703191],\n",
       "       [ 0.084     ,  0.59234609,  0.10053657],\n",
       "       [ 0.086     ,  0.58854167,  0.09573567],\n",
       "       [ 0.088     ,  0.58856089,  0.09008755]])"
      ]
     },
     "execution_count": 71,
     "metadata": {},
     "output_type": "execute_result"
    }
   ],
   "source": [
    "prec_recall_curve"
   ]
  },
  {
   "cell_type": "code",
   "execution_count": 27,
   "metadata": {
    "collapsed": false
   },
   "outputs": [
    {
     "data": {
      "text/plain": [
       "array([ 0.00132196, -0.        ,  0.00124658,  0.00070851,  0.00051348,\n",
       "        0.00092297, -0.        , -0.        , -0.        , -0.        ,\n",
       "       -0.        ,  0.0005272 ,  0.0005292 ,  0.00073762,  0.00167574,\n",
       "        0.00092254,  0.00066465,  0.00239092,  0.00031968,  0.00052381,\n",
       "        0.0007714 , -0.        ,  0.00145071,  0.00086439,  0.00249986,\n",
       "        0.0006523 ,  0.00069823,  0.00275531,  0.00064273, -0.        ,\n",
       "        0.00447068, -0.        ,  0.00099363,  0.00073377,  0.00188306,\n",
       "        0.00192453, -0.        ,  0.00087209, -0.        ,  0.00165223])"
      ]
     },
     "execution_count": 27,
     "metadata": {},
     "output_type": "execute_result"
    }
   ],
   "source": [
    "dataBow[959][545:585]"
   ]
  },
  {
   "cell_type": "code",
   "execution_count": 15,
   "metadata": {
    "collapsed": false
   },
   "outputs": [],
   "source": [
    "true_positives = (dataBow > 0.02) & (dataGroundTruth == 1)"
   ]
  },
  {
   "cell_type": "code",
   "execution_count": 24,
   "metadata": {
    "collapsed": false
   },
   "outputs": [],
   "source": [
    "dataGroundTruth[::50, ::50]"
   ]
  },
  {
   "cell_type": "code",
   "execution_count": 37,
   "metadata": {
    "collapsed": false
   },
   "outputs": [
    {
     "data": {
      "text/plain": [
       "(1237, 1237)"
      ]
     },
     "execution_count": 37,
     "metadata": {},
     "output_type": "execute_result"
    }
   ],
   "source": [
    "dataGroundTruth.shape"
   ]
  },
  {
   "cell_type": "code",
   "execution_count": 38,
   "metadata": {
    "collapsed": false
   },
   "outputs": [
    {
     "data": {
      "text/plain": [
       "(1237, 1237)"
      ]
     },
     "execution_count": 38,
     "metadata": {},
     "output_type": "execute_result"
    }
   ],
   "source": [
    "dataBow.shape"
   ]
  },
  {
   "cell_type": "code",
   "execution_count": 76,
   "metadata": {
    "collapsed": false
   },
   "outputs": [
    {
     "data": {
      "text/plain": [
       "array([[ 0.        ,  0.00691174,  0.98644451],\n",
       "       [ 0.002     ,  0.01425179,  0.88308387],\n",
       "       [ 0.004     ,  0.0516819 ,  0.75063541],\n",
       "       [ 0.006     ,  0.16390487,  0.66760802],\n",
       "       [ 0.008     ,  0.29611916,  0.61197402],\n",
       "       [ 0.01      ,  0.36338648,  0.5600113 ],\n",
       "       [ 0.012     ,  0.3989071 ,  0.51539113],\n",
       "       [ 0.014     ,  0.42307692,  0.4815024 ],\n",
       "       [ 0.016     ,  0.4387079 ,  0.44874329],\n",
       "       [ 0.018     ,  0.45334136,  0.42530359],\n",
       "       [ 0.02      ,  0.46629942,  0.40638238],\n",
       "       [ 0.022     ,  0.47495622,  0.38294267],\n",
       "       [ 0.024     ,  0.48465569,  0.3657159 ],\n",
       "       [ 0.026     ,  0.49186185,  0.34990116],\n",
       "       [ 0.028     ,  0.50021053,  0.33549845],\n",
       "       [ 0.03      ,  0.51077199,  0.32137814],\n",
       "       [ 0.032     ,  0.51457238,  0.30415137],\n",
       "       [ 0.034     ,  0.5148465 ,  0.28890144],\n",
       "       [ 0.036     ,  0.5187533 ,  0.27732279],\n",
       "       [ 0.038     ,  0.52224053,  0.2685682 ],\n",
       "       [ 0.04      ,  0.5226361 ,  0.25755436],\n",
       "       [ 0.042     ,  0.52895054,  0.24767015],\n",
       "       [ 0.044     ,  0.53030303,  0.23722112],\n",
       "       [ 0.046     ,  0.53377049,  0.22987857],\n",
       "       [ 0.048     ,  0.53888131,  0.22310082],\n",
       "       [ 0.05      ,  0.54265233,  0.21378142],\n",
       "       [ 0.052     ,  0.54423792,  0.20672127],\n",
       "       [ 0.054     ,  0.55023184,  0.20107314],\n",
       "       [ 0.056     ,  0.5534996 ,  0.1942954 ],\n",
       "       [ 0.058     ,  0.55238894,  0.18610562],\n",
       "       [ 0.06      ,  0.55390009,  0.17848066],\n",
       "       [ 0.062     ,  0.56055046,  0.17255013],\n",
       "       [ 0.064     ,  0.56160458,  0.16605479],\n",
       "       [ 0.066     ,  0.56157635,  0.16097148],\n",
       "       [ 0.068     ,  0.55933953,  0.15306411],\n",
       "       [ 0.07      ,  0.56437768,  0.14854561],\n",
       "       [ 0.072     ,  0.56384181,  0.14092064],\n",
       "       [ 0.074     ,  0.57244656,  0.13611974],\n",
       "       [ 0.076     ,  0.57336621,  0.13131884],\n",
       "       [ 0.078     ,  0.57976654,  0.12623553],\n",
       "       [ 0.08      ,  0.58355795,  0.12228184],\n",
       "       [ 0.082     ,  0.58798283,  0.11606891],\n",
       "       [ 0.084     ,  0.59407407,  0.11324485],\n",
       "       [ 0.086     ,  0.59442724,  0.10844394],\n",
       "       [ 0.088     ,  0.59354839,  0.10392544],\n",
       "       [ 0.09      ,  0.6       ,  0.10081898],\n",
       "       [ 0.092     ,  0.60350877,  0.0971477 ],\n",
       "       [ 0.094     ,  0.60183486,  0.0926292 ],\n",
       "       [ 0.096     ,  0.59962406,  0.09008755],\n",
       "       [ 0.098     ,  0.59179688,  0.08556905]])"
      ]
     },
     "execution_count": 76,
     "metadata": {},
     "output_type": "execute_result"
    }
   ],
   "source": [
    "prec_recall_orbDbow3"
   ]
  },
  {
   "cell_type": "code",
   "execution_count": 68,
   "metadata": {
    "collapsed": false
   },
   "outputs": [
    {
     "data": {
      "text/plain": [
       "array([ 0.26973294,  0.075939  ])"
      ]
     },
     "execution_count": 68,
     "metadata": {},
     "output_type": "execute_result"
    }
   ],
   "source": [
    "prec_recall_orbDbow3[10][1:3] -0.1"
   ]
  },
  {
   "cell_type": "code",
   "execution_count": null,
   "metadata": {
    "collapsed": true
   },
   "outputs": [],
   "source": []
  }
 ],
 "metadata": {
  "kernelspec": {
   "display_name": "Python 3",
   "language": "python",
   "name": "python3"
  },
  "language_info": {
   "codemirror_mode": {
    "name": "ipython",
    "version": 3
   },
   "file_extension": ".py",
   "mimetype": "text/x-python",
   "name": "python",
   "nbconvert_exporter": "python",
   "pygments_lexer": "ipython3",
   "version": "3.6.0"
  }
 },
 "nbformat": 4,
 "nbformat_minor": 2
}
